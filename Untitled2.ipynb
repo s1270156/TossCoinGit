{
  "nbformat": 4,
  "nbformat_minor": 0,
  "metadata": {
    "colab": {
      "name": "Untitled2.ipynb",
      "provenance": [],
      "collapsed_sections": [],
      "authorship_tag": "ABX9TyOie6m/zmALs015WWH/gE0y",
      "include_colab_link": true
    },
    "kernelspec": {
      "name": "python3",
      "display_name": "Python 3"
    },
    "language_info": {
      "name": "python"
    }
  },
  "cells": [
    {
      "cell_type": "markdown",
      "metadata": {
        "id": "view-in-github",
        "colab_type": "text"
      },
      "source": [
        "<a href=\"https://colab.research.google.com/github/s1270156/TossCoinGit/blob/master/Untitled2.ipynb\" target=\"_parent\"><img src=\"https://colab.research.google.com/assets/colab-badge.svg\" alt=\"Open In Colab\"/></a>"
      ]
    },
    {
      "cell_type": "markdown",
      "source": [
        "Ex04 s1270156 Goto Mizuki"
      ],
      "metadata": {
        "id": "y0GjENIN2cdi"
      }
    },
    {
      "cell_type": "markdown",
      "source": [
        "Q1"
      ],
      "metadata": {
        "id": "wR7mWC0b2l-T"
      }
    },
    {
      "cell_type": "code",
      "execution_count": 1,
      "metadata": {
        "colab": {
          "base_uri": "https://localhost:8080/"
        },
        "id": "F0mSwJpX12i2",
        "outputId": "d8e37194-26a3-451b-8450-f4ccbcfa0018"
      },
      "outputs": [
        {
          "output_type": "stream",
          "name": "stdout",
          "text": [
            "[nltk_data] Downloading package senseval to /root/nltk_data...\n",
            "[nltk_data]   Unzipping corpora/senseval.zip.\n"
          ]
        },
        {
          "output_type": "execute_result",
          "data": {
            "text/plain": [
              "True"
            ]
          },
          "metadata": {},
          "execution_count": 1
        }
      ],
      "source": [
        "from __future__ import division\n",
        "import nltk, re, pprint\n",
        "from nltk import word_tokenize\n",
        "import nltk\n",
        "nltk.download('senseval')"
      ]
    },
    {
      "cell_type": "code",
      "source": [
        "from nltk.corpus import senseval\n",
        "import random\n",
        "\n",
        "instances = senseval.instances('hard.pos')\n",
        "size = int(len(instances)*0.9)\n",
        "print(size)\n",
        "\n",
        "train, test = instances[size:], instances[:size]\n",
        "\n",
        "\n",
        "def senser(instance):\n",
        "  features = {}\n",
        "  features[\"word-type\"] = instance.word\n",
        "  features[\"word-tag\"] = instance.context[instance.position][1]\n",
        "  features[\"prev-word\"] = instance.context[instance.position-1][0]\n",
        "  features[\"prev-word-tag\"] = instance.context[instance.position-1][1]\n",
        "  features[\"next-word\"] = instance.context[instance.position+1][0]\n",
        "  features[\"next-word-tag\"] = instance.context[instance.position+1][1]\n",
        "\n",
        "  return features\n",
        "\n",
        "\n",
        "for i in train:\n",
        "  pos = i.position\n",
        "\n",
        "  L = ' '.join(w for (w,t) in i.context[pos-2:pos])\n",
        "  word = ' '.join(w for (w,t) in i.context[pos:pos+1])\n",
        "  R = ' '.join(w for (w,t) in i.context[pos+1:pos+3])\n",
        "  senses = ' '.join(i.senses)\n",
        "\n",
        "\n",
        "set_feature = [(senser(i), i.senses[0]) for i in instances if len(i.senses) == 1]\n",
        "random.shuffle(set_feature)\n",
        "\n",
        "dev = set_feature[:250]\n",
        "test = set_feature[250:500]\n",
        "train = set_feature[500:]\n",
        "\n",
        "classifier = nltk.NaiveBayesClassifier.train(train)\n",
        "print(nltk.classify.accuracy(classifier, dev))"
      ],
      "metadata": {
        "colab": {
          "base_uri": "https://localhost:8080/"
        },
        "id": "b8xzNNQl2o9-",
        "outputId": "57833f21-e436-4325-b71f-c50da72e496f"
      },
      "execution_count": 10,
      "outputs": [
        {
          "output_type": "stream",
          "name": "stdout",
          "text": [
            "3899\n",
            "0.908\n"
          ]
        }
      ]
    },
    {
      "cell_type": "markdown",
      "source": [
        "Q2"
      ],
      "metadata": {
        "id": "VKnSLiZaDQUT"
      }
    },
    {
      "cell_type": "code",
      "source": [
        "import nltk\n",
        "from nltk.corpus import brown\n",
        "import random\n",
        "nltk.download('brown')\n",
        "\n",
        "set_feature = []\n",
        "dic = {}\n",
        "\n",
        "for tagged_sent in brown.tagged_sents():\n",
        "  for (w1,t1), (w2,t2) in nltk.bigrams(tagged_sent):\n",
        "\n",
        "    if w1 == 'strong' and t1 == 'JJ':\n",
        "      dic[w2] = t2\n",
        "      set_feature.append((dic, w1))\n",
        "      dic = {}\n",
        "\n",
        "    elif w1 == 'powerful' and t1 == 'JJ':\n",
        "      dic[w2] = t2\n",
        "      set_feature.append((dic, w1))\n",
        "      dic = {}\n",
        "\n",
        "print(set_feature)\n",
        "print(int(len(set_feature)))\n",
        "\n",
        "random.shuffle(set_feature)\n",
        "\n",
        "test = set_feature[:60]\n",
        "train = set_feature[60:]\n",
        "classifier = nltk.NaiveBayesClassifier.train(train)\n",
        "\n",
        "print(nltk.classify.accuracy(classifier, test))\n",
        "classifier.show_most_informative_features(10)"
      ],
      "metadata": {
        "colab": {
          "base_uri": "https://localhost:8080/"
        },
        "id": "ZwtVTdvODOQg",
        "outputId": "48df5be7-782e-4531-d78b-208afb392d4c"
      },
      "execution_count": 23,
      "outputs": [
        {
          "output_type": "stream",
          "name": "stdout",
          "text": [
            "[nltk_data] Downloading package brown to /root/nltk_data...\n",
            "[nltk_data]   Package brown is already up-to-date!\n",
            "[({'encouragement': 'NN'}, 'strong'), ({'fight': 'NN'}, 'strong'), ({',': ','}, 'strong'), ({'opposition': 'NN'}, 'strong'), ({'arm': 'NN'}, 'strong'), ({'New': 'JJ-TL'}, 'powerful'), ({'advocate': 'NN'}, 'strong'), ({'transmitter': 'NN'}, 'powerful'), ({'executives': 'NNS'}, 'strong'), ({'Christianity': 'NP'}, 'strong'), ({'pressures': 'NNS'}, 'strong'), ({'reactions': 'NNS'}, 'strong'), ({',': ','}, 'powerful'), ({'.': '.'}, 'strong'), ({'and': 'CC'}, 'strong'), ({'central': 'JJ'}, 'strong'), ({'man': 'NN'}, 'powerful'), ({'opposition': 'NN'}, 'strong'), ({'opposition': 'NN'}, 'strong'), ({'central': 'JJ'}, 'powerful'), ({'pressure': 'NN'}, 'strong'), ({'that': 'CS'}, 'strong'), ({'dissents': 'NNS'}, 'strong'), ({'nations': 'NNS'}, 'powerful'), ({'enough': 'QLP'}, 'strong'), ({'nation': 'NN'}, 'powerful'), ({'conviction': 'NN'}, 'strong'), ({'one': 'CD'}, 'strong'), ({'suspicions': 'NNS'}, 'strong'), ({'enough': 'QLP'}, 'strong'), ({'enough': 'QLP'}, 'strong'), ({'men': 'NNS'}, 'strong'), ({'literary': 'JJ'}, 'strong'), ({',': ','}, 'strong'), ({'potions': 'NNS'}, 'strong'), ({'performance': 'NN'}, 'strong'), ({'tone': 'NN'}, 'strong'), ({'and': 'CC'}, 'strong'), ({'native': 'JJ'}, 'strong'), ({'French': 'JJ'}, 'strong'), ({',': ','}, 'strong'), ({'Italian': 'JJ'}, 'strong'), ({'sense': 'NN'}, 'strong'), ({'listener': 'NN'}, 'strong'), ({'mirror': 'NN'}, 'powerful'), ({'than': 'CS'}, 'powerful'), ({',': ','}, 'strong'), ({'voice': 'NN'}, 'strong'), ({'contrast': 'NN'}, 'strong'), ({',': ','}, 'strong'), ({'protest': 'NN'}, 'strong'), ({'as': 'CS'}, 'strong'), ({'and': 'CC'}, 'strong'), ({'central': 'JJ'}, 'powerful'), ({'efforts': 'NNS'}, 'powerful'), ({'weapon': 'NN'}, 'powerful'), ({'glasses': 'NNS'}, 'powerful'), ({'temperance': 'NN'}, 'strong'), ({'divine': 'NN'}, 'powerful'), ({'otherworldly': 'JJ'}, 'powerful'), ({'victory': 'NN'}, 'powerful'), ({',': ','}, 'powerful'), ({'engines': 'NNS'}, 'powerful'), ({'engines': 'NNS'}, 'powerful'), ({'beliefs': 'NNS'}, 'strong'), ({',': ','}, 'strong'), ({'enough': 'QLP'}, 'strong'), ({'transom': 'NN'}, 'strong'), ({'after': 'IN'}, 'strong'), ({'winds': 'NNS'}, 'strong'), ({'music': 'NN'}, 'powerful'), ({'20th-Century': 'NN'}, 'strong'), ({',': ','}, 'strong'), ({'wave': 'NN'}, 'strong'), ({'.': '.'}, 'strong'), ({'professional': 'JJ'}, 'strong'), ({'credit': 'NN'}, 'strong'), ({'oil': 'NN'}, 'strong'), ({'oil': 'NN'}, 'strong'), ({'visual': 'JJ'}, 'powerful'), ({'act': 'NN'}, 'powerful'), ({'Greek': 'JJ'}, 'powerful'), ({'straight': 'JJ'}, 'strong'), ({'or': 'CC'}, 'powerful'), ({'political': 'JJ'}, 'strong'), ({'and': 'CC'}, 'powerful'), ({'soapy': 'JJ'}, 'strong'), ({'apple': 'NN'}, 'strong'), ({'tea': 'NN'}, 'strong'), ({'new': 'JJ'}, 'strong'), ({'arm': 'NN'}, 'strong'), ({',': ','}, 'strong'), ({'point': 'NN'}, 'strong'), ({'indictment': 'NN'}, 'powerful'), ({'military': 'JJ'}, 'strong'), ({'congressmen': 'NNS'}, 'powerful'), ({'convictions': 'NNS'}, 'strong'), ({'determination': 'NN'}, 'strong'), ({'enough': 'QLP'}, 'strong'), ({'case': 'NN'}, 'strong'), ({'to': 'TO'}, 'strong'), ({'feeling': 'NN'}, 'strong'), ({'than': 'CS'}, 'powerful'), ({'opinions': 'NNS'}, 'strong'), ({'national': 'JJ'}, 'strong'), ({'nationalist': 'JJ'}, 'strong'), ({'upsurge': 'NN'}, 'strong'), ({'compulsion': 'NN'}, 'strong'), ({'than': 'CS'}, 'powerful'), ({'look': 'NN'}, 'strong'), ({'bulwark': 'NN'}, 'strong'), ({'sailorly': 'JJ'}, 'strong'), ({'material': 'NN'}, 'strong'), ({'a': 'AT'}, 'strong'), ({'liking': 'NN'}, 'strong'), ({'influence': 'NN'}, 'powerful'), ({'and': 'CC'}, 'powerful'), ({'support': 'NN'}, 'strong'), ({'influence': 'NN'}, 'strong'), ({'point': 'NN'}, 'strong'), ({'negative': 'JJ'}, 'strong'), ({'explanation': 'NN'}, 'strong'), ({'against': 'IN'}, 'strong'), ({'wine': 'NN'}, 'strong'), ({'pressures': 'NNS'}, 'strong'), ({'woman': 'NN'}, 'strong'), ({'because': 'CS'}, 'strong'), ({',': ','}, 'strong'), ({'opposition': 'NN'}, 'powerful'), ({'word': 'NN'}, 'strong'), ({'and': 'CC'}, 'strong'), ({'Orwell': 'NP'}, 'powerful'), ({'factor': 'NN'}, 'powerful'), ({'civilizations': 'NNS'}, 'powerful'), ({'sense': 'NN'}, 'powerful'), ({'in': 'IN'}, 'powerful'), ({'and': 'CC'}, 'strong'), ({'magnetic': 'JJ'}, 'strong'), ({'spectral': 'JJ'}, 'strong'), ({',': ','}, 'strong'), ({'enough': 'QLP'}, 'powerful'), ({'financial': 'JJ'}, 'strong'), ({'demand': 'NN'}, 'strong'), ({'in': 'IN'}, 'strong'), ({'recovery': 'NN'}, 'strong'), ({'men': 'NNS'}, 'strong'), ({'subordinates': 'NNS'}, 'strong'), ({'Af': 'NN'}, 'strong'), ({'activity': 'NN'}, 'strong'), ({'.': '.'}, 'strong'), ({'emotion': 'NN'}, 'strong'), ({'nociceptive': 'JJ'}, 'strong'), ({'incentives': 'NNS'}, 'strong'), ({'is': 'BEZ'}, 'strong'), ({'bond': 'NN'}, 'powerful'), ({'aid': 'NN'}, 'powerful'), ({'.': '.'}, 'strong'), ({'independent': 'JJ'}, 'strong'), ({'enough': 'QLP'}, 'strong'), ({'and': 'CC'}, 'strong'), ({'introject': 'NN'}, 'powerful'), ({'stress': 'NN'}, 'strong'), ({'stress': 'NN'}, 'strong'), ({'stresses': 'NNS'}, 'strong'), ({'stresses': 'NNS'}, 'strong'), ({'stress': 'NN'}, 'strong'), ({'stress': 'NN'}, 'strong'), ({'stress': 'NN'}, 'strong'), ({'stress': 'NN'}, 'strong'), ({'stress': 'NN'}, 'strong'), ({'stress': 'NN'}, 'strong'), ({'.': '.'}, 'strong'), ({'stress': 'NN'}, 'strong'), ({'stress': 'NN'}, 'strong'), ({'feeling': 'NN'}, 'strong'), ({'Poland': 'NP'}, 'strong'), ({'and': 'CC'}, 'strong'), ({',': ','}, 'powerful'), ({'as': 'CS'}, 'strong'), ({'bulwark': 'NN'}, 'powerful'), ({'backing': 'NN'}, 'strong'), ({'hands': 'NNS'}, 'strong'), ({'hands': 'NNS'}, 'strong'), ({'hands': 'NNS'}, 'strong'), ({'hands': 'NNS'}, 'strong'), ({'sources': 'NNS'}, 'powerful'), ({'possibility': 'NN'}, 'strong'), ({'force': 'NN'}, 'powerful'), ({'union': 'NN'}, 'powerful'), ({'societies': 'NNS'}, 'powerful'), ({'requires': 'VBZ'}, 'powerful'), ({'Democratic': 'JJ-TL'}, 'powerful'), ({'for': 'IN'}, 'strong'), ({'and': 'CC'}, 'strong'), ({'adhesive': 'NN'}, 'strong'), ({'features': 'NNS'}, 'strong'), ({'emotions': 'NNS'}, 'strong'), ({'nose': 'NN'}, 'strong'), ({'.': '.'}, 'strong'), ({'enough': 'QLP'}, 'strong'), ({'even': 'RB'}, 'strong'), ({'gray': 'JJ'}, 'powerful'), ({'and': 'CC'}, 'strong'), ({';': '.'}, 'strong'), ({'signals': 'NNS'}, 'strong'), ({'microphone': 'NN'}, 'powerful'), ({'push': 'NN'}, 'strong'), ({'and': 'CC'}, 'strong'), ({'arms': 'NNS'}, 'powerful'), ({'and': 'CC'}, 'strong'), ({'enough': 'QLP'}, 'strong'), ({',': ','}, 'strong'), ({'as': 'CS'}, 'strong'), ({'body': 'NN'}, 'powerful'), ({'as': 'CS'}, 'strong'), ({'for': 'IN'}, 'strong'), ({'enough': 'QLP'}, 'powerful'), ({'negative': 'JJ'}, 'strong'), ({'that': 'CS'}, 'powerful'), ({',': ','}, 'strong'), ({'arms': 'NNS'}, 'powerful'), ({'woman': 'NN'}, 'strong'), ({'to': 'TO'}, 'strong'), ({'enough': 'QLP'}, 'strong'), ({'position': 'NN'}, 'strong'), ({'streams': 'NNS'}, 'powerful'), ({'of': 'IN'}, 'powerful'), ({'.': '.'}, 'strong'), ({'hints': 'NNS'}, 'strong'), ({'branches': 'NNS'}, 'strong'), ({',': ','}, 'strong'), ({'jaws': 'NNS'}, 'strong'), ({'jab': 'NN'}, 'powerful'), ({'.': '.'}, 'powerful'), ({'on': 'IN'}, 'strong'), ({'light': 'NN'}, 'strong'), ({'physical': 'JJ'}, 'strong'), ({'and': 'CC'}, 'strong'), ({',': ','}, 'strong'), ({'.': '.'}, 'strong'), ({'representative': 'NN'}, 'powerful'), ({'and': 'CC'}, 'strong'), ({'home-blend': 'NN'}, 'strong'), ({'enough': 'QLP'}, 'strong'), ({'enough': 'QLP'}, 'strong'), ({'like': 'CS'}, 'powerful'), ({'hand': 'NN'}, 'strong'), ({'.': '.'}, 'strong'), ({'as': 'CS'}, 'strong'), ({'.': '.'}, 'strong'), ({'.': '.'}, 'strong'), ({'delights': 'NNS'}, 'strong'), ({'.': '.'}, 'strong')]\n",
            "253\n",
            "0.8\n",
            "Most Informative Features\n",
            "                 central = 'JJ'           powerf : strong =      2.9 : 1.0\n",
            "                    that = 'CS'           powerf : strong =      2.9 : 1.0\n",
            "                      in = 'IN'           powerf : strong =      2.9 : 1.0\n",
            "                       . = '.'            strong : powerf =      2.0 : 1.0\n",
            "                     and = 'CC'           strong : powerf =      1.6 : 1.0\n",
            "                  enough = 'QLP'          strong : powerf =      1.3 : 1.0\n",
            "                       , = ','            strong : powerf =      1.3 : 1.0\n",
            "              opposition = 'NN'           powerf : strong =      1.2 : 1.0\n",
            "                  stress = None           powerf : strong =      1.1 : 1.0\n",
            "                 engines = None           strong : powerf =      1.0 : 1.0\n"
          ]
        }
      ]
    },
    {
      "cell_type": "markdown",
      "source": [
        "Q3"
      ],
      "metadata": {
        "id": "zuUpKOtNOObE"
      }
    },
    {
      "cell_type": "code",
      "source": [
        "nltk.download('nps_chat')\n",
        "nltk.download('punkt')\n",
        "post = nltk.corpus.nps_chat.xml_posts()\n",
        "\n",
        "\n",
        "def pick_f(post):\n",
        "  features = {}\n",
        "  for word in nltk.word_tokenize(post.text):\n",
        "    features['contains({})'.format(word.lower())] = True\n",
        "\n",
        "  return features\n",
        "\n",
        "\n",
        "def pick_f_sec(post, prev):\n",
        "  features = {}\n",
        "  features['prev-class'] = prev\n",
        "  for word in nltk.word_tokenize(post.text):\n",
        "    features['contains({})'.format(word.lower())] = True\n",
        "\n",
        "  return features\n",
        "\n",
        "\n",
        "def fst_postlist(post):\n",
        "  fst_posts = []\n",
        "  prev = 'none'\n",
        "  for i in post:\n",
        "    fst_posts.append((pick_f_sec(i, prev), i.get('class')))\n",
        "    prev = i.get('class')\n",
        "\n",
        "  return fst_posts\n",
        "\n",
        "\n",
        "fst_posts = [(pick_f(i), i.get('class')) for i in post]\n",
        "\n",
        "print(int(len(fst_posts)))\n",
        "print(fst_posts[200])\n",
        "\n",
        "test = fst_posts[:5000]\n",
        "train = fst_posts[5000:]\n",
        "classifier = nltk.NaiveBayesClassifier.train(train)\n",
        "\n",
        "print(nltk.classify.accuracy(classifier, test))\n",
        "\n",
        "\n",
        "fst_posts = fst_postlist(post)\n",
        "print(fst_posts[200])\n",
        "\n",
        "test = fst_posts[:5000]\n",
        "train = fst_posts[5000:]\n",
        "classifier = nltk.NaiveBayesClassifier.train(train)\n",
        "\n",
        "print(nltk.classify.accuracy(classifier, test))"
      ],
      "metadata": {
        "colab": {
          "base_uri": "https://localhost:8080/"
        },
        "id": "eZx-CpszON5c",
        "outputId": "64ce7389-4ca9-4111-8f49-3bfa821ff1db"
      },
      "execution_count": 22,
      "outputs": [
        {
          "output_type": "stream",
          "name": "stdout",
          "text": [
            "[nltk_data] Downloading package nps_chat to /root/nltk_data...\n",
            "[nltk_data]   Package nps_chat is already up-to-date!\n",
            "[nltk_data] Downloading package punkt to /root/nltk_data...\n",
            "[nltk_data]   Package punkt is already up-to-date!\n",
            "10567\n",
            "({'contains(yay)': True, 'contains(!)': True}, 'Emotion')\n",
            "0.6154\n",
            "({'prev-class': 'ynQuestion', 'contains(yay)': True, 'contains(!)': True}, 'Emotion')\n",
            "0.616\n"
          ]
        }
      ]
    }
  ]
}