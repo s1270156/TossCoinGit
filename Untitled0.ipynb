{
  "nbformat": 4,
  "nbformat_minor": 0,
  "metadata": {
    "colab": {
      "name": "Untitled0.ipynb",
      "provenance": [],
      "authorship_tag": "ABX9TyOims3O+oWjDonxz57oYhQO",
      "include_colab_link": true
    },
    "kernelspec": {
      "name": "python3",
      "display_name": "Python 3"
    },
    "language_info": {
      "name": "python"
    }
  },
  "cells": [
    {
      "cell_type": "markdown",
      "metadata": {
        "id": "view-in-github",
        "colab_type": "text"
      },
      "source": [
        "<a href=\"https://colab.research.google.com/github/s1270156/TossCoinGit/blob/master/Untitled0.ipynb\" target=\"_parent\"><img src=\"https://colab.research.google.com/assets/colab-badge.svg\" alt=\"Open In Colab\"/></a>"
      ]
    },
    {
      "cell_type": "code",
      "execution_count": 1,
      "metadata": {
        "colab": {
          "base_uri": "https://localhost:8080/"
        },
        "id": "IDPu32SBd5c2",
        "outputId": "2901841d-7031-4f0b-bd20-76d05e5c46a0"
      },
      "outputs": [
        {
          "output_type": "stream",
          "name": "stdout",
          "text": [
            "Before: Hacker ate sugar cookie last night.\n",
            "After: hAck3r 8 $ugAr c00k13 |A5t n1ght5w33t!\n"
          ]
        }
      ],
      "source": [
        "import re\n",
        "def convert(text):\n",
        "  for i, word in enumerate(text):\n",
        "    word = re.sub('ate', '8', word)\n",
        "    word = re.sub('a', 'A', word)\n",
        "    word = re.sub('e', '3', word)\n",
        "    word = re.sub('i', '1', word)\n",
        "    word = re.sub('o', '0', word)\n",
        "    word = re.sub('l', '|', word)\n",
        "    word = re.sub('^s', '$', word)\n",
        "    word = re.sub('s', '5', word)\n",
        "    text[i] = re.sub('\\.', '5w33t!', word)\n",
        "  return text\n",
        "\n",
        "def main():\n",
        "  sp_text = input('Before: ').lower().split() \n",
        "  converted_text = \" \".join(convert(sp_text)) \n",
        "  print(f'After: {converted_text}')\n",
        "  \n",
        "if __name__ == '__main__': \n",
        "  main()"
      ]
    }
  ]
}